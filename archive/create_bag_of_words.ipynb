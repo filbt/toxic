{
 "cells": [
  {
   "cell_type": "code",
   "execution_count": 1,
   "metadata": {},
   "outputs": [],
   "source": [
    "import pandas as pd\n",
    "from sklearn.feature_extraction.text import CountVectorizer, HashingVectorizer"
   ]
  },
  {
   "cell_type": "code",
   "execution_count": 2,
   "metadata": {},
   "outputs": [],
   "source": [
    "train = pd.read_csv('data/train.csv').set_index('id')\n",
    "test = pd.read_csv('data/train.csv').set_index('id')"
   ]
  },
  {
   "cell_type": "code",
   "execution_count": 3,
   "metadata": {},
   "outputs": [
    {
     "data": {
      "text/plain": [
       "id\n",
       "0000997932d777bf    Explanation\\nWhy the edits made under my usern...\n",
       "000103f0d9cfb60f    D'aww! He matches this background colour I'm s...\n",
       "000113f07ec002fd    Hey man, I'm really not trying to edit war. It...\n",
       "0001b41b1c6bb37e    \"\\nMore\\nI can't make any real suggestions on ...\n",
       "0001d958c54c6e35    You, sir, are my hero. Any chance you remember...\n",
       "Name: comment_text, dtype: object"
      ]
     },
     "execution_count": 3,
     "metadata": {},
     "output_type": "execute_result"
    }
   ],
   "source": [
    "documents = train.comment_text\n",
    "documents.head()"
   ]
  },
  {
   "cell_type": "markdown",
   "metadata": {},
   "source": [
    "## 1-gram binary"
   ]
  },
  {
   "cell_type": "code",
   "execution_count": 4,
   "metadata": {},
   "outputs": [
    {
     "name": "stdout",
     "output_type": "stream",
     "text": [
      "CPU times: user 8.66 s, sys: 492 ms, total: 9.16 s\n",
      "Wall time: 9.15 s\n"
     ]
    }
   ],
   "source": [
    "%%time\n",
    "\n",
    "vectorizer1 = CountVectorizer(\n",
    "    analyzer='word', max_features=500, stop_words='english', binary=True)\n",
    "\n",
    "# array of occurrences\n",
    "bag1 = vectorizer1.fit_transform(documents)\n",
    "\n",
    "# construct dataframe\n",
    "bag1 = pd.DataFrame(\n",
    "    data=bag1.toarray(), columns=vectorizer1.get_feature_names(), index=documents.index)\n",
    "\n",
    "# sort columns\n",
    "bag1 = bag1[bag1.sum().sort_values(ascending=False).index]"
   ]
  },
  {
   "cell_type": "markdown",
   "metadata": {},
   "source": [
    "## 2-gram binary"
   ]
  },
  {
   "cell_type": "code",
   "execution_count": 5,
   "metadata": {},
   "outputs": [
    {
     "name": "stdout",
     "output_type": "stream",
     "text": [
      "CPU times: user 23.6 s, sys: 812 ms, total: 24.4 s\n",
      "Wall time: 24.4 s\n"
     ]
    }
   ],
   "source": [
    "%%time\n",
    "\n",
    "vectorizer2 = CountVectorizer(\n",
    "    analyzer='word', max_features=500, stop_words='english', ngram_range=(2,2), binary=True)\n",
    "\n",
    "# array of occurrences\n",
    "bag2 = vectorizer2.fit_transform(documents)\n",
    "\n",
    "# construct dataframe\n",
    "bag2 = pd.DataFrame(\n",
    "    data=bag2.toarray(), columns=vectorizer2.get_feature_names(), index=documents.index)\n",
    "\n",
    "# sort columns\n",
    "bag2 = bag2[bag2.sum().sort_values(ascending=False).index]"
   ]
  },
  {
   "cell_type": "markdown",
   "metadata": {},
   "source": [
    "## look around and save"
   ]
  },
  {
   "cell_type": "code",
   "execution_count": 6,
   "metadata": {},
   "outputs": [
    {
     "data": {
      "text/html": [
       "<div>\n",
       "<style>\n",
       "    .dataframe thead tr:only-child th {\n",
       "        text-align: right;\n",
       "    }\n",
       "\n",
       "    .dataframe thead th {\n",
       "        text-align: left;\n",
       "    }\n",
       "\n",
       "    .dataframe tbody tr th {\n",
       "        vertical-align: top;\n",
       "    }\n",
       "</style>\n",
       "<table border=\"1\" class=\"dataframe\">\n",
       "  <thead>\n",
       "    <tr style=\"text-align: right;\">\n",
       "      <th></th>\n",
       "      <th>article</th>\n",
       "      <th>page</th>\n",
       "      <th>wikipedia</th>\n",
       "      <th>talk</th>\n",
       "      <th>just</th>\n",
       "      <th>like</th>\n",
       "      <th>don</th>\n",
       "      <th>think</th>\n",
       "      <th>know</th>\n",
       "      <th>edit</th>\n",
       "      <th>...</th>\n",
       "      <th>tildes</th>\n",
       "      <th>works</th>\n",
       "      <th>government</th>\n",
       "      <th>banned</th>\n",
       "      <th>context</th>\n",
       "      <th>accepted</th>\n",
       "      <th>citation</th>\n",
       "      <th>comes</th>\n",
       "      <th>file</th>\n",
       "      <th>2004</th>\n",
       "    </tr>\n",
       "    <tr>\n",
       "      <th>id</th>\n",
       "      <th></th>\n",
       "      <th></th>\n",
       "      <th></th>\n",
       "      <th></th>\n",
       "      <th></th>\n",
       "      <th></th>\n",
       "      <th></th>\n",
       "      <th></th>\n",
       "      <th></th>\n",
       "      <th></th>\n",
       "      <th></th>\n",
       "      <th></th>\n",
       "      <th></th>\n",
       "      <th></th>\n",
       "      <th></th>\n",
       "      <th></th>\n",
       "      <th></th>\n",
       "      <th></th>\n",
       "      <th></th>\n",
       "      <th></th>\n",
       "      <th></th>\n",
       "    </tr>\n",
       "  </thead>\n",
       "  <tbody>\n",
       "    <tr>\n",
       "      <th>0000997932d777bf</th>\n",
       "      <td>0</td>\n",
       "      <td>1</td>\n",
       "      <td>0</td>\n",
       "      <td>1</td>\n",
       "      <td>1</td>\n",
       "      <td>0</td>\n",
       "      <td>1</td>\n",
       "      <td>0</td>\n",
       "      <td>0</td>\n",
       "      <td>0</td>\n",
       "      <td>...</td>\n",
       "      <td>0</td>\n",
       "      <td>0</td>\n",
       "      <td>0</td>\n",
       "      <td>0</td>\n",
       "      <td>0</td>\n",
       "      <td>0</td>\n",
       "      <td>0</td>\n",
       "      <td>0</td>\n",
       "      <td>0</td>\n",
       "      <td>0</td>\n",
       "    </tr>\n",
       "    <tr>\n",
       "      <th>000103f0d9cfb60f</th>\n",
       "      <td>0</td>\n",
       "      <td>0</td>\n",
       "      <td>0</td>\n",
       "      <td>1</td>\n",
       "      <td>0</td>\n",
       "      <td>0</td>\n",
       "      <td>0</td>\n",
       "      <td>0</td>\n",
       "      <td>0</td>\n",
       "      <td>0</td>\n",
       "      <td>...</td>\n",
       "      <td>0</td>\n",
       "      <td>0</td>\n",
       "      <td>0</td>\n",
       "      <td>0</td>\n",
       "      <td>0</td>\n",
       "      <td>0</td>\n",
       "      <td>0</td>\n",
       "      <td>0</td>\n",
       "      <td>0</td>\n",
       "      <td>0</td>\n",
       "    </tr>\n",
       "    <tr>\n",
       "      <th>000113f07ec002fd</th>\n",
       "      <td>0</td>\n",
       "      <td>1</td>\n",
       "      <td>0</td>\n",
       "      <td>1</td>\n",
       "      <td>1</td>\n",
       "      <td>0</td>\n",
       "      <td>0</td>\n",
       "      <td>0</td>\n",
       "      <td>0</td>\n",
       "      <td>1</td>\n",
       "      <td>...</td>\n",
       "      <td>0</td>\n",
       "      <td>0</td>\n",
       "      <td>0</td>\n",
       "      <td>0</td>\n",
       "      <td>0</td>\n",
       "      <td>0</td>\n",
       "      <td>0</td>\n",
       "      <td>0</td>\n",
       "      <td>0</td>\n",
       "      <td>0</td>\n",
       "    </tr>\n",
       "    <tr>\n",
       "      <th>0001b41b1c6bb37e</th>\n",
       "      <td>0</td>\n",
       "      <td>0</td>\n",
       "      <td>1</td>\n",
       "      <td>0</td>\n",
       "      <td>0</td>\n",
       "      <td>0</td>\n",
       "      <td>0</td>\n",
       "      <td>1</td>\n",
       "      <td>1</td>\n",
       "      <td>0</td>\n",
       "      <td>...</td>\n",
       "      <td>0</td>\n",
       "      <td>0</td>\n",
       "      <td>0</td>\n",
       "      <td>0</td>\n",
       "      <td>0</td>\n",
       "      <td>0</td>\n",
       "      <td>0</td>\n",
       "      <td>0</td>\n",
       "      <td>0</td>\n",
       "      <td>0</td>\n",
       "    </tr>\n",
       "    <tr>\n",
       "      <th>0001d958c54c6e35</th>\n",
       "      <td>0</td>\n",
       "      <td>1</td>\n",
       "      <td>0</td>\n",
       "      <td>0</td>\n",
       "      <td>0</td>\n",
       "      <td>0</td>\n",
       "      <td>0</td>\n",
       "      <td>0</td>\n",
       "      <td>0</td>\n",
       "      <td>0</td>\n",
       "      <td>...</td>\n",
       "      <td>0</td>\n",
       "      <td>0</td>\n",
       "      <td>0</td>\n",
       "      <td>0</td>\n",
       "      <td>0</td>\n",
       "      <td>0</td>\n",
       "      <td>0</td>\n",
       "      <td>0</td>\n",
       "      <td>0</td>\n",
       "      <td>0</td>\n",
       "    </tr>\n",
       "  </tbody>\n",
       "</table>\n",
       "<p>5 rows × 500 columns</p>\n",
       "</div>"
      ],
      "text/plain": [
       "                  article  page  wikipedia  talk  just  like  don  think  \\\n",
       "id                                                                         \n",
       "0000997932d777bf        0     1          0     1     1     0    1      0   \n",
       "000103f0d9cfb60f        0     0          0     1     0     0    0      0   \n",
       "000113f07ec002fd        0     1          0     1     1     0    0      0   \n",
       "0001b41b1c6bb37e        0     0          1     0     0     0    0      1   \n",
       "0001d958c54c6e35        0     1          0     0     0     0    0      0   \n",
       "\n",
       "                  know  edit  ...   tildes  works  government  banned  \\\n",
       "id                            ...                                       \n",
       "0000997932d777bf     0     0  ...        0      0           0       0   \n",
       "000103f0d9cfb60f     0     0  ...        0      0           0       0   \n",
       "000113f07ec002fd     0     1  ...        0      0           0       0   \n",
       "0001b41b1c6bb37e     1     0  ...        0      0           0       0   \n",
       "0001d958c54c6e35     0     0  ...        0      0           0       0   \n",
       "\n",
       "                  context  accepted  citation  comes  file  2004  \n",
       "id                                                                \n",
       "0000997932d777bf        0         0         0      0     0     0  \n",
       "000103f0d9cfb60f        0         0         0      0     0     0  \n",
       "000113f07ec002fd        0         0         0      0     0     0  \n",
       "0001b41b1c6bb37e        0         0         0      0     0     0  \n",
       "0001d958c54c6e35        0         0         0      0     0     0  \n",
       "\n",
       "[5 rows x 500 columns]"
      ]
     },
     "execution_count": 6,
     "metadata": {},
     "output_type": "execute_result"
    }
   ],
   "source": [
    "bag1.head()"
   ]
  },
  {
   "cell_type": "code",
   "execution_count": 7,
   "metadata": {},
   "outputs": [
    {
     "name": "stdout",
     "output_type": "stream",
     "text": [
      "<class 'pandas.core.frame.DataFrame'>\n",
      "Index: 159571 entries, 0000997932d777bf to fff46fc426af1f9a\n",
      "Columns: 500 entries, article to 2004\n",
      "dtypes: int64(500)\n",
      "memory usage: 609.9+ MB\n"
     ]
    }
   ],
   "source": [
    "bag1.info()"
   ]
  },
  {
   "cell_type": "code",
   "execution_count": 8,
   "metadata": {},
   "outputs": [
    {
     "data": {
      "text/html": [
       "<div>\n",
       "<style>\n",
       "    .dataframe thead tr:only-child th {\n",
       "        text-align: right;\n",
       "    }\n",
       "\n",
       "    .dataframe thead th {\n",
       "        text-align: left;\n",
       "    }\n",
       "\n",
       "    .dataframe tbody tr th {\n",
       "        vertical-align: top;\n",
       "    }\n",
       "</style>\n",
       "<table border=\"1\" class=\"dataframe\">\n",
       "  <thead>\n",
       "    <tr style=\"text-align: right;\">\n",
       "      <th></th>\n",
       "      <th>talk page</th>\n",
       "      <th>don know</th>\n",
       "      <th>blocked editing</th>\n",
       "      <th>feel free</th>\n",
       "      <th>http www</th>\n",
       "      <th>don think</th>\n",
       "      <th>talk pages</th>\n",
       "      <th>talk contribs</th>\n",
       "      <th>speedy deletion</th>\n",
       "      <th>welcome wikipedia</th>\n",
       "      <th>...</th>\n",
       "      <th>box note</th>\n",
       "      <th>reverted contact</th>\n",
       "      <th>subject importance</th>\n",
       "      <th>notice image</th>\n",
       "      <th>page did</th>\n",
       "      <th>ve heard</th>\n",
       "      <th>citing sources</th>\n",
       "      <th>significance deleted</th>\n",
       "      <th>make edit</th>\n",
       "      <th>image use</th>\n",
       "    </tr>\n",
       "    <tr>\n",
       "      <th>id</th>\n",
       "      <th></th>\n",
       "      <th></th>\n",
       "      <th></th>\n",
       "      <th></th>\n",
       "      <th></th>\n",
       "      <th></th>\n",
       "      <th></th>\n",
       "      <th></th>\n",
       "      <th></th>\n",
       "      <th></th>\n",
       "      <th></th>\n",
       "      <th></th>\n",
       "      <th></th>\n",
       "      <th></th>\n",
       "      <th></th>\n",
       "      <th></th>\n",
       "      <th></th>\n",
       "      <th></th>\n",
       "      <th></th>\n",
       "      <th></th>\n",
       "      <th></th>\n",
       "    </tr>\n",
       "  </thead>\n",
       "  <tbody>\n",
       "    <tr>\n",
       "      <th>0000997932d777bf</th>\n",
       "      <td>1</td>\n",
       "      <td>0</td>\n",
       "      <td>0</td>\n",
       "      <td>0</td>\n",
       "      <td>0</td>\n",
       "      <td>0</td>\n",
       "      <td>0</td>\n",
       "      <td>0</td>\n",
       "      <td>0</td>\n",
       "      <td>0</td>\n",
       "      <td>...</td>\n",
       "      <td>0</td>\n",
       "      <td>0</td>\n",
       "      <td>0</td>\n",
       "      <td>0</td>\n",
       "      <td>0</td>\n",
       "      <td>0</td>\n",
       "      <td>0</td>\n",
       "      <td>0</td>\n",
       "      <td>0</td>\n",
       "      <td>0</td>\n",
       "    </tr>\n",
       "    <tr>\n",
       "      <th>000103f0d9cfb60f</th>\n",
       "      <td>0</td>\n",
       "      <td>0</td>\n",
       "      <td>0</td>\n",
       "      <td>0</td>\n",
       "      <td>0</td>\n",
       "      <td>0</td>\n",
       "      <td>0</td>\n",
       "      <td>0</td>\n",
       "      <td>0</td>\n",
       "      <td>0</td>\n",
       "      <td>...</td>\n",
       "      <td>0</td>\n",
       "      <td>0</td>\n",
       "      <td>0</td>\n",
       "      <td>0</td>\n",
       "      <td>0</td>\n",
       "      <td>0</td>\n",
       "      <td>0</td>\n",
       "      <td>0</td>\n",
       "      <td>0</td>\n",
       "      <td>0</td>\n",
       "    </tr>\n",
       "    <tr>\n",
       "      <th>000113f07ec002fd</th>\n",
       "      <td>1</td>\n",
       "      <td>0</td>\n",
       "      <td>0</td>\n",
       "      <td>0</td>\n",
       "      <td>0</td>\n",
       "      <td>0</td>\n",
       "      <td>0</td>\n",
       "      <td>0</td>\n",
       "      <td>0</td>\n",
       "      <td>0</td>\n",
       "      <td>...</td>\n",
       "      <td>0</td>\n",
       "      <td>0</td>\n",
       "      <td>0</td>\n",
       "      <td>0</td>\n",
       "      <td>0</td>\n",
       "      <td>0</td>\n",
       "      <td>0</td>\n",
       "      <td>0</td>\n",
       "      <td>0</td>\n",
       "      <td>0</td>\n",
       "    </tr>\n",
       "    <tr>\n",
       "      <th>0001b41b1c6bb37e</th>\n",
       "      <td>0</td>\n",
       "      <td>0</td>\n",
       "      <td>0</td>\n",
       "      <td>0</td>\n",
       "      <td>0</td>\n",
       "      <td>0</td>\n",
       "      <td>0</td>\n",
       "      <td>0</td>\n",
       "      <td>0</td>\n",
       "      <td>0</td>\n",
       "      <td>...</td>\n",
       "      <td>0</td>\n",
       "      <td>0</td>\n",
       "      <td>0</td>\n",
       "      <td>0</td>\n",
       "      <td>0</td>\n",
       "      <td>0</td>\n",
       "      <td>0</td>\n",
       "      <td>0</td>\n",
       "      <td>0</td>\n",
       "      <td>0</td>\n",
       "    </tr>\n",
       "    <tr>\n",
       "      <th>0001d958c54c6e35</th>\n",
       "      <td>0</td>\n",
       "      <td>0</td>\n",
       "      <td>0</td>\n",
       "      <td>0</td>\n",
       "      <td>0</td>\n",
       "      <td>0</td>\n",
       "      <td>0</td>\n",
       "      <td>0</td>\n",
       "      <td>0</td>\n",
       "      <td>0</td>\n",
       "      <td>...</td>\n",
       "      <td>0</td>\n",
       "      <td>0</td>\n",
       "      <td>0</td>\n",
       "      <td>0</td>\n",
       "      <td>0</td>\n",
       "      <td>0</td>\n",
       "      <td>0</td>\n",
       "      <td>0</td>\n",
       "      <td>0</td>\n",
       "      <td>0</td>\n",
       "    </tr>\n",
       "  </tbody>\n",
       "</table>\n",
       "<p>5 rows × 500 columns</p>\n",
       "</div>"
      ],
      "text/plain": [
       "                  talk page  don know  blocked editing  feel free  http www  \\\n",
       "id                                                                            \n",
       "0000997932d777bf          1         0                0          0         0   \n",
       "000103f0d9cfb60f          0         0                0          0         0   \n",
       "000113f07ec002fd          1         0                0          0         0   \n",
       "0001b41b1c6bb37e          0         0                0          0         0   \n",
       "0001d958c54c6e35          0         0                0          0         0   \n",
       "\n",
       "                  don think  talk pages  talk contribs  speedy deletion  \\\n",
       "id                                                                        \n",
       "0000997932d777bf          0           0              0                0   \n",
       "000103f0d9cfb60f          0           0              0                0   \n",
       "000113f07ec002fd          0           0              0                0   \n",
       "0001b41b1c6bb37e          0           0              0                0   \n",
       "0001d958c54c6e35          0           0              0                0   \n",
       "\n",
       "                  welcome wikipedia    ...      box note  reverted contact  \\\n",
       "id                                     ...                                   \n",
       "0000997932d777bf                  0    ...             0                 0   \n",
       "000103f0d9cfb60f                  0    ...             0                 0   \n",
       "000113f07ec002fd                  0    ...             0                 0   \n",
       "0001b41b1c6bb37e                  0    ...             0                 0   \n",
       "0001d958c54c6e35                  0    ...             0                 0   \n",
       "\n",
       "                  subject importance  notice image  page did  ve heard  \\\n",
       "id                                                                       \n",
       "0000997932d777bf                   0             0         0         0   \n",
       "000103f0d9cfb60f                   0             0         0         0   \n",
       "000113f07ec002fd                   0             0         0         0   \n",
       "0001b41b1c6bb37e                   0             0         0         0   \n",
       "0001d958c54c6e35                   0             0         0         0   \n",
       "\n",
       "                  citing sources  significance deleted  make edit  image use  \n",
       "id                                                                            \n",
       "0000997932d777bf               0                     0          0          0  \n",
       "000103f0d9cfb60f               0                     0          0          0  \n",
       "000113f07ec002fd               0                     0          0          0  \n",
       "0001b41b1c6bb37e               0                     0          0          0  \n",
       "0001d958c54c6e35               0                     0          0          0  \n",
       "\n",
       "[5 rows x 500 columns]"
      ]
     },
     "execution_count": 8,
     "metadata": {},
     "output_type": "execute_result"
    }
   ],
   "source": [
    "bag2.head()"
   ]
  },
  {
   "cell_type": "code",
   "execution_count": 9,
   "metadata": {},
   "outputs": [
    {
     "name": "stdout",
     "output_type": "stream",
     "text": [
      "<class 'pandas.core.frame.DataFrame'>\n",
      "Index: 159571 entries, 0000997932d777bf to fff46fc426af1f9a\n",
      "Columns: 500 entries, talk page to image use\n",
      "dtypes: int64(500)\n",
      "memory usage: 609.9+ MB\n"
     ]
    }
   ],
   "source": [
    "bag2.info()"
   ]
  },
  {
   "cell_type": "code",
   "execution_count": 10,
   "metadata": {},
   "outputs": [
    {
     "name": "stdout",
     "output_type": "stream",
     "text": [
      "CPU times: user 1min 11s, sys: 396 ms, total: 1min 11s\n",
      "Wall time: 1min 11s\n"
     ]
    }
   ],
   "source": [
    "%%time\n",
    "bag1.to_csv('partial_results/train_bow_1gram.csv')\n",
    "bag2.to_csv('partial_results/train_bow_2gram.csv')"
   ]
  },
  {
   "cell_type": "markdown",
   "metadata": {},
   "source": [
    "## visualize something"
   ]
  },
  {
   "cell_type": "code",
   "execution_count": 11,
   "metadata": {},
   "outputs": [],
   "source": [
    "%matplotlib inline\n",
    "from matplotlib import pyplot as plt\n",
    "from matplotlib.ticker import FuncFormatter"
   ]
  },
  {
   "cell_type": "code",
   "execution_count": 12,
   "metadata": {},
   "outputs": [
    {
     "data": {
      "text/plain": [
       "(0, 0.2112272906731173)"
      ]
     },
     "execution_count": 12,
     "metadata": {},
     "output_type": "execute_result"
    },
    {
     "data": {
      "image/png": "[encoded data removed]",
      "text/plain": [
       "<matplotlib.figure.Figure at 0x7f4299558860>"
      ]
     },
     "metadata": {},
     "output_type": "display_data"
    }
   ],
   "source": [
    "tempdf = bag1.copy()\n",
    "tempdf.columns = range(1, len(tempdf.columns) + 1)\n",
    "tempdf.mean().plot.line(label='N=1')\n",
    "\n",
    "tempdf = bag2.copy()\n",
    "tempdf.columns = range(1, len(tempdf.columns) + 1)\n",
    "tempdf.mean().plot.line(label='N=2')\n",
    "\n",
    "ax = plt.gca()\n",
    "ax.set_title('% of documents with the Xth most common N-gram')\n",
    "ax.yaxis.set_major_formatter(FuncFormatter(lambda y, _: '{:.0%}'.format(y)))\n",
    "ax.legend()\n",
    "ax.grid()\n",
    "ax.set_ylim(0, None)"
   ]
  },
  {
   "cell_type": "code",
   "execution_count": 13,
   "metadata": {},
   "outputs": [
    {
     "data": {
      "image/png": "[encoded data removed]",
      "text/plain": [
       "<matplotlib.figure.Figure at 0x7f429974cc88>"
      ]
     },
     "metadata": {},
     "output_type": "display_data"
    }
   ],
   "source": [
    "tempdf = bag1.copy()\n",
    "tempdf.columns = range(1, len(tempdf.columns) + 1)\n",
    "tempdf.mean().plot.line(label='N=1')\n",
    "\n",
    "tempdf = bag2.copy()\n",
    "tempdf.columns = range(1, len(tempdf.columns) + 1)\n",
    "tempdf.mean().plot.line(label='N=2')\n",
    "\n",
    "ax = plt.gca()\n",
    "ax.set_title('% of documents with the Xth most common N-gram')\n",
    "ax.yaxis.set_major_formatter(FuncFormatter(lambda y, _: '{:.0%}'.format(y)))\n",
    "ax.legend()\n",
    "ax.grid()\n",
    "ax.set_ylim(0, None)\n",
    "ax.set_xscale('log')"
   ]
  },
  {
   "cell_type": "markdown",
   "metadata": {},
   "source": [
    "## new bag"
   ]
  },
  {
   "cell_type": "code",
   "execution_count": 14,
   "metadata": {},
   "outputs": [],
   "source": [
    "from nltk import word_tokenize"
   ]
  },
  {
   "cell_type": "code",
   "execution_count": 15,
   "metadata": {},
   "outputs": [
    {
     "name": "stdout",
     "output_type": "stream",
     "text": [
      "CPU times: user 2min 4s, sys: 116 ms, total: 2min 4s\n",
      "Wall time: 2min 4s\n"
     ]
    }
   ],
   "source": [
    "%%time\n",
    "vectorizer3 = CountVectorizer(analyzer='word', tokenizer=word_tokenize, max_features=500)\n",
    "bag3 = vectorizer3.fit_transform(documents)"
   ]
  },
  {
   "cell_type": "code",
   "execution_count": 16,
   "metadata": {},
   "outputs": [],
   "source": [
    "bag3 = pd.DataFrame(\n",
    "    data=bag3.toarray(), columns=vectorizer3.get_feature_names(), index=documents.index)\n",
    "\n",
    "# sort columns\n",
    "bag3 = bag3[bag3.sum().sort_values(ascending=False).index]"
   ]
  },
  {
   "cell_type": "code",
   "execution_count": 17,
   "metadata": {},
   "outputs": [
    {
     "data": {
      "text/plain": [
       ".              495439\n",
       "the            495401\n",
       ",              471812\n",
       "to             296851\n",
       "''             242528\n",
       "i              236495\n",
       "of             224008\n",
       "and            222709\n",
       "you            216674\n",
       "a              214033\n",
       "is             180287\n",
       "that           160512\n",
       "``             155370\n",
       "it             147625\n",
       "in             144392\n",
       "!              105576\n",
       "for            102451\n",
       "this            96943\n",
       "not             96581\n",
       ")               90711\n",
       "on              89409\n",
       "(               85085\n",
       "be              83326\n",
       ":               82772\n",
       "as              77269\n",
       "have            73939\n",
       "are             73404\n",
       "?               71692\n",
       "'s              66767\n",
       "your            63258\n",
       "                ...  \n",
       "redirect         2625\n",
       "known            2621\n",
       "school           2590\n",
       "notability       2587\n",
       "love             2584\n",
       "move             2578\n",
       "project          2577\n",
       "sentence         2572\n",
       "appropriate      2569\n",
       "changed          2567\n",
       "explain          2564\n",
       "started          2556\n",
       "four             2543\n",
       "included         2530\n",
       "removing         2530\n",
       "info             2521\n",
       "anyway           2509\n",
       "mind             2506\n",
       "next             2498\n",
       "although         2494\n",
       "looking          2488\n",
       "picture          2487\n",
       "die              2484\n",
       "community        2482\n",
       "style            2466\n",
       "relevant         2462\n",
       "answer           2461\n",
       "sign             2460\n",
       "away             2456\n",
       "per              2453\n",
       "Length: 500, dtype: int64"
      ]
     },
     "execution_count": 17,
     "metadata": {},
     "output_type": "execute_result"
    }
   ],
   "source": [
    "bag3.sum().sort_values(ascending=False)"
   ]
  }
 ],
 "metadata": {
  "anaconda-cloud": {},
  "kernelspec": {
   "display_name": "Python [conda env:toxic]",
   "language": "python",
   "name": "conda-env-toxic-py"
  },
  "language_info": {
   "codemirror_mode": {
    "name": "ipython",
    "version": 3
   },
   "file_extension": ".py",
   "mimetype": "text/x-python",
   "name": "python",
   "nbconvert_exporter": "python",
   "pygments_lexer": "ipython3",
   "version": "3.6.3"
  }
 },
 "nbformat": 4,
 "nbformat_minor": 1
}

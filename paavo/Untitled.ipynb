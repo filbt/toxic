{
 "cells": [
  {
   "cell_type": "code",
   "execution_count": 1,
   "metadata": {},
   "outputs": [
    {
     "name": "stdout",
     "output_type": "stream",
     "text": [
      "\u001b[0m\u001b[01;32m/home/ubuntu/anaconda2/envs/toxic35/bin/pip\u001b[0m*\r\n"
     ]
    }
   ],
   "source": [
    "%ls /home/ubuntu/anaconda2/envs/toxic35/bin/pip"
   ]
  },
  {
   "cell_type": "code",
   "execution_count": 2,
   "metadata": {},
   "outputs": [
    {
     "name": "stdout",
     "output_type": "stream",
     "text": [
      "Reading package lists... Done\n",
      "Building dependency tree       \n",
      "Reading state information... Done\n",
      "The following packages were automatically installed and are no longer required:\n",
      "  linux-headers-4.4.0-101 linux-headers-4.4.0-101-generic\n",
      "  linux-headers-4.4.0-103 linux-headers-4.4.0-103-generic\n",
      "  linux-headers-4.4.0-36 linux-headers-4.4.0-36-generic\n",
      "  linux-image-4.4.0-101-generic linux-image-4.4.0-103-generic\n",
      "  linux-image-4.4.0-36-generic\n",
      "Use 'sudo apt autoremove' to remove them.\n",
      "The following additional packages will be installed:\n",
      "  fonts-liberation libcdt5 libcgraph6 libgvc6 libgvpr2 libpathplan4\n",
      "Suggested packages:\n",
      "  gsfonts graphviz-doc\n",
      "The following NEW packages will be installed:\n",
      "  fonts-liberation graphviz libcdt5 libcgraph6 libgvc6 libgvpr2 libpathplan4\n",
      "0 upgraded, 7 newly installed, 0 to remove and 277 not upgraded.\n",
      "Need to get 2,364 kB of archives.\n",
      "After this operation, 14.6 MB of additional disk space will be used.\n",
      "Get:1 http://eu-west-1.ec2.archive.ubuntu.com/ubuntu xenial/main amd64 fonts-liberation all 1.07.4-1 [829 kB]\n",
      "Get:2 http://eu-west-1.ec2.archive.ubuntu.com/ubuntu xenial-updates/main amd64 libcdt5 amd64 2.38.0-12ubuntu2.1 [23.4 kB]\n",
      "Get:3 http://eu-west-1.ec2.archive.ubuntu.com/ubuntu xenial-updates/main amd64 libcgraph6 amd64 2.38.0-12ubuntu2.1 [43.6 kB]\n",
      "Get:4 http://eu-west-1.ec2.archive.ubuntu.com/ubuntu xenial-updates/main amd64 libpathplan4 amd64 2.38.0-12ubuntu2.1 [26.6 kB]\n",
      "Get:5 http://eu-west-1.ec2.archive.ubuntu.com/ubuntu xenial-updates/main amd64 libgvc6 amd64 2.38.0-12ubuntu2.1 [591 kB]\n",
      "Get:6 http://eu-west-1.ec2.archive.ubuntu.com/ubuntu xenial-updates/main amd64 libgvpr2 amd64 2.38.0-12ubuntu2.1 [170 kB]\n",
      "Get:7 http://eu-west-1.ec2.archive.ubuntu.com/ubuntu xenial-updates/main amd64 graphviz amd64 2.38.0-12ubuntu2.1 [680 kB]\n",
      "Fetched 2,364 kB in 0s (21.6 MB/s)\n",
      "Selecting previously unselected package fonts-liberation.\n",
      "(Reading database ... 220652 files and directories currently installed.)\n",
      "Preparing to unpack .../fonts-liberation_1.07.4-1_all.deb ...\n",
      "Unpacking fonts-liberation (1.07.4-1) ...\n",
      "Selecting previously unselected package libcdt5.\n",
      "Preparing to unpack .../libcdt5_2.38.0-12ubuntu2.1_amd64.deb ...\n",
      "Unpacking libcdt5 (2.38.0-12ubuntu2.1) ...\n",
      "Selecting previously unselected package libcgraph6.\n",
      "Preparing to unpack .../libcgraph6_2.38.0-12ubuntu2.1_amd64.deb ...\n",
      "Unpacking libcgraph6 (2.38.0-12ubuntu2.1) ...\n",
      "Selecting previously unselected package libpathplan4.\n",
      "Preparing to unpack .../libpathplan4_2.38.0-12ubuntu2.1_amd64.deb ...\n",
      "Unpacking libpathplan4 (2.38.0-12ubuntu2.1) ...\n",
      "Selecting previously unselected package libgvc6.\n",
      "Preparing to unpack .../libgvc6_2.38.0-12ubuntu2.1_amd64.deb ...\n",
      "Unpacking libgvc6 (2.38.0-12ubuntu2.1) ...\n",
      "Selecting previously unselected package libgvpr2.\n",
      "Preparing to unpack .../libgvpr2_2.38.0-12ubuntu2.1_amd64.deb ...\n",
      "Unpacking libgvpr2 (2.38.0-12ubuntu2.1) ...\n",
      "Selecting previously unselected package graphviz.\n",
      "Preparing to unpack .../graphviz_2.38.0-12ubuntu2.1_amd64.deb ...\n",
      "Unpacking graphviz (2.38.0-12ubuntu2.1) ...\n",
      "Processing triggers for fontconfig (2.11.94-0ubuntu1.1) ...\n",
      "Processing triggers for libc-bin (2.23-0ubuntu10) ...\n",
      "/sbin/ldconfig.real: /usr/local/cuda-8.0/targets/x86_64-linux/lib/libcudnn.so.5 is not a symbolic link\n",
      "\n",
      "Processing triggers for man-db (2.7.5-1) ...\n",
      "Setting up fonts-liberation (1.07.4-1) ...\n",
      "Setting up libcdt5 (2.38.0-12ubuntu2.1) ...\n",
      "Setting up libcgraph6 (2.38.0-12ubuntu2.1) ...\n",
      "Setting up libpathplan4 (2.38.0-12ubuntu2.1) ...\n",
      "Setting up libgvc6 (2.38.0-12ubuntu2.1) ...\n",
      "Setting up libgvpr2 (2.38.0-12ubuntu2.1) ...\n",
      "Setting up graphviz (2.38.0-12ubuntu2.1) ...\n",
      "Processing triggers for libc-bin (2.23-0ubuntu10) ...\n",
      "/sbin/ldconfig.real: /usr/local/cuda-8.0/targets/x86_64-linux/lib/libcudnn.so.5 is not a symbolic link\n",
      "\n"
     ]
    }
   ],
   "source": [
    "!sudo apt-get install graphviz -y"
   ]
  },
  {
   "cell_type": "code",
   "execution_count": null,
   "metadata": {},
   "outputs": [],
   "source": []
  }
 ],
 "metadata": {
  "anaconda-cloud": {},
  "kernelspec": {
   "display_name": "Python [conda env:toxic35]",
   "language": "python",
   "name": "conda-env-toxic35-py"
  },
  "language_info": {
   "codemirror_mode": {
    "name": "ipython",
    "version": 3
   },
   "file_extension": ".py",
   "mimetype": "text/x-python",
   "name": "python",
   "nbconvert_exporter": "python",
   "pygments_lexer": "ipython3",
   "version": "3.5.4"
  }
 },
 "nbformat": 4,
 "nbformat_minor": 1
}

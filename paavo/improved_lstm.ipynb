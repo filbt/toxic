{
 "cells": [
  {
   "cell_type": "code",
   "execution_count": 1,
   "metadata": {},
   "outputs": [
    {
     "name": "stderr",
     "output_type": "stream",
     "text": [
      "Using Theano backend.\n",
      "WARNING (theano.sandbox.cuda): The cuda backend is deprecated and will be removed in the next release (v0.10).  Please switch to the gpuarray backend. You can get more information about how to switch at this URL:\n",
      " https://github.com/Theano/Theano/wiki/Converting-to-the-new-gpu-back-end%28gpuarray%29\n",
      "\n",
      "Using gpu device 0: Tesla K80 (CNMeM is disabled, cuDNN 5103)\n",
      "/home/ubuntu/anaconda2/envs/toxic35/lib/python3.5/site-packages/h5py/__init__.py:36: FutureWarning: Conversion of the second argument of issubdtype from `float` to `np.floating` is deprecated. In future, it will be treated as `np.float64 == np.dtype(float).type`.\n",
      "  from ._conv import register_converters as _register_converters\n"
     ]
    }
   ],
   "source": [
    "import sys, os, re, csv, codecs, numpy as np, pandas as pd\n",
    "\n",
    "from keras.preprocessing.text import Tokenizer\n",
    "from keras.preprocessing.sequence import pad_sequences\n",
    "from keras.layers import Dense, Input, LSTM, Embedding, Dropout, Activation\n",
    "from keras.layers import Bidirectional, GlobalMaxPool1D\n",
    "from keras.models import Model\n",
    "from keras import initializers, regularizers, constraints, optimizers, layers\n",
    "from keras.utils import plot_model\n",
    "from keras.callbacks import EarlyStopping"
   ]
  },
  {
   "cell_type": "code",
   "execution_count": 2,
   "metadata": {},
   "outputs": [],
   "source": [
    "EMBEDDING_FILE = '../data/glove.6B.50d.txt'\n",
    "TRAIN_DATA_FILE = '../data/train.csv'\n",
    "TEST_DATA_FILE = '../data/test.csv'"
   ]
  },
  {
   "cell_type": "code",
   "execution_count": 3,
   "metadata": {},
   "outputs": [],
   "source": [
    "embed_size = 50 # how big is each word vector\n",
    "max_features = 20000 # how many unique words to use (i.e num rows in embedding vector)\n",
    "maxlen = 100 # max number of words in a comment to use"
   ]
  },
  {
   "cell_type": "code",
   "execution_count": 4,
   "metadata": {},
   "outputs": [],
   "source": [
    "train = pd.read_csv(TRAIN_DATA_FILE)\n",
    "test = pd.read_csv(TEST_DATA_FILE)\n",
    "\n",
    "list_sentences_train = train[\"comment_text\"].fillna(\"_na_\").values\n",
    "list_classes = [\"toxic\", \"severe_toxic\", \"obscene\", \"threat\", \"insult\", \"identity_hate\"]\n",
    "y = train[list_classes].values\n",
    "list_sentences_test = test[\"comment_text\"].fillna(\"_na_\").values"
   ]
  },
  {
   "cell_type": "markdown",
   "metadata": {},
   "source": [
    "# \"standard keras preprocessing\""
   ]
  },
  {
   "cell_type": "code",
   "execution_count": 5,
   "metadata": {},
   "outputs": [
    {
     "name": "stdout",
     "output_type": "stream",
     "text": [
      "CPU times: user 27.9 s, sys: 240 ms, total: 28.2 s\n",
      "Wall time: 28.2 s\n"
     ]
    }
   ],
   "source": [
    "%%time\n",
    "tokenizer = Tokenizer(num_words=max_features)\n",
    "tokenizer.fit_on_texts(list(list_sentences_train))\n",
    "list_tokenized_train = tokenizer.texts_to_sequences(list_sentences_train)\n",
    "list_tokenized_test = tokenizer.texts_to_sequences(list_sentences_test)\n",
    "X_t = pad_sequences(list_tokenized_train, maxlen=maxlen)\n",
    "X_te = pad_sequences(list_tokenized_test, maxlen=maxlen)"
   ]
  },
  {
   "cell_type": "code",
   "execution_count": 6,
   "metadata": {},
   "outputs": [
    {
     "name": "stdout",
     "output_type": "stream",
     "text": [
      "CPU times: user 6.29 s, sys: 236 ms, total: 6.53 s\n",
      "Wall time: 6.36 s\n"
     ]
    }
   ],
   "source": [
    "%%time\n",
    "def get_coefs(word,*arr): \n",
    "    return word, np.asarray(arr, dtype='float32')\n",
    "embeddings_index = dict(get_coefs(*o.strip().split()) for o in open(EMBEDDING_FILE))"
   ]
  },
  {
   "cell_type": "code",
   "execution_count": 7,
   "metadata": {},
   "outputs": [
    {
     "data": {
      "text/plain": [
       "(0.020940494, 0.64410406)"
      ]
     },
     "execution_count": 7,
     "metadata": {},
     "output_type": "execute_result"
    }
   ],
   "source": [
    "all_embs = np.stack(embeddings_index.values())\n",
    "emb_mean,emb_std = all_embs.mean(), all_embs.std()\n",
    "emb_mean,emb_std"
   ]
  },
  {
   "cell_type": "code",
   "execution_count": 8,
   "metadata": {},
   "outputs": [
    {
     "data": {
      "text/plain": [
       "array([[-0.05729025, -0.09410239, -0.43545319, ..., -0.76319059,\n",
       "         0.77463431,  0.17687941],\n",
       "       [ 0.41800001,  0.24968   , -0.41242   , ..., -0.18411   ,\n",
       "        -0.11514   , -0.78580999],\n",
       "       [ 0.68046999, -0.039263  ,  0.30186   , ..., -0.073297  ,\n",
       "        -0.064699  , -0.26043999],\n",
       "       ...,\n",
       "       [-0.13491   , -0.8635    , -0.033898  , ...,  0.29484999,\n",
       "        -0.24315999,  0.81682003],\n",
       "       [ 0.1178    ,  0.14624   , -0.28240001, ..., -0.19529   ,\n",
       "        -0.13610999,  1.04270005],\n",
       "       [-0.64388001, -0.54152   ,  0.10305   , ..., -0.06732   ,\n",
       "        -0.73308003,  0.88625002]])"
      ]
     },
     "execution_count": 8,
     "metadata": {},
     "output_type": "execute_result"
    }
   ],
   "source": [
    "word_index = tokenizer.word_index\n",
    "nb_words = min(max_features, len(word_index))\n",
    "embedding_matrix = np.random.normal(emb_mean, emb_std, (nb_words, embed_size))\n",
    "for word, i in word_index.items():\n",
    "    if i >= max_features: continue\n",
    "    embedding_vector = embeddings_index.get(word)\n",
    "    if embedding_vector is not None: embedding_matrix[i] = embedding_vector\n",
    "embedding_matrix"
   ]
  },
  {
   "cell_type": "code",
   "execution_count": 9,
   "metadata": {},
   "outputs": [],
   "source": [
    "from types import SimpleNamespace\n",
    "def make_small(X_t, y, rows): \n",
    "    small = SimpleNamespace()\n",
    "    small.choices = np.random.choice(X_t.shape[0], rows, replace=False)\n",
    "    small.X_t = X_t[small.choices, :]\n",
    "    small.y = y[small.choices, :]\n",
    "    return small"
   ]
  },
  {
   "cell_type": "markdown",
   "metadata": {},
   "source": [
    "# visualize"
   ]
  },
  {
   "cell_type": "code",
   "execution_count": 10,
   "metadata": {},
   "outputs": [],
   "source": [
    "from IPython.display import SVG\n",
    "from keras.utils.vis_utils import model_to_dot\n",
    "def show_me(model):\n",
    "    return SVG(model_to_dot(model, show_shapes=True, show_layer_names=True).create(prog='dot', format='svg'))"
   ]
  },
  {
   "cell_type": "markdown",
   "metadata": {},
   "source": [
    "# Model 1"
   ]
  },
  {
   "cell_type": "code",
   "execution_count": 11,
   "metadata": {},
   "outputs": [
    {
     "name": "stdout",
     "output_type": "stream",
     "text": [
      "CPU times: user 1.97 s, sys: 108 ms, total: 2.08 s\n",
      "Wall time: 1.92 s\n"
     ]
    }
   ],
   "source": [
    "%%time\n",
    "inp = Input(shape=(maxlen,))\n",
    "x = Embedding(max_features, embed_size, weights=[embedding_matrix])(inp)\n",
    "x = Bidirectional(LSTM(50, return_sequences=True, dropout=0.1, recurrent_dropout=0.1))(x)\n",
    "x = GlobalMaxPool1D()(x)\n",
    "x = Dense(50, activation=\"relu\")(x)\n",
    "x = Dropout(0.1)(x)\n",
    "x = Dense(6, activation=\"sigmoid\")(x)\n",
    "model = Model(inputs=inp, outputs=x)\n",
    "model.compile(loss='binary_crossentropy', optimizer='adam', metrics=['accuracy'])"
   ]
  },
  {
   "cell_type": "code",
   "execution_count": 17,
   "metadata": {},
   "outputs": [
    {
     "data": {
      "image/svg+xml": [
       "<svg height=\"553pt\" viewBox=\"0.00 0.00 564.00 553.00\" width=\"564pt\" xmlns=\"http://www.w3.org/2000/svg\" xmlns:xlink=\"http://www.w3.org/1999/xlink\">\n",
       "<g class=\"graph\" id=\"graph0\" transform=\"scale(1 1) rotate(0) translate(4 549)\">\n",
       "<title>G</title>\n",
       "<polygon fill=\"white\" points=\"-4,4 -4,-549 560,-549 560,4 -4,4\" stroke=\"none\"/>\n",
       "<!-- 139983774839472 -->\n",
       "<g class=\"node\" id=\"node1\"><title>139983774839472</title>\n",
       "<polygon fill=\"none\" points=\"113.5,-498.5 113.5,-544.5 442.5,-544.5 442.5,-498.5 113.5,-498.5\" stroke=\"black\"/>\n",
       "<text font-family=\"Times,serif\" font-size=\"14.00\" text-anchor=\"middle\" x=\"193.5\" y=\"-517.8\">input_1: InputLayer</text>\n",
       "<polyline fill=\"none\" points=\"273.5,-498.5 273.5,-544.5 \" stroke=\"black\"/>\n",
       "<text font-family=\"Times,serif\" font-size=\"14.00\" text-anchor=\"middle\" x=\"307.5\" y=\"-529.3\">input:</text>\n",
       "<polyline fill=\"none\" points=\"273.5,-521.5 341.5,-521.5 \" stroke=\"black\"/>\n",
       "<text font-family=\"Times,serif\" font-size=\"14.00\" text-anchor=\"middle\" x=\"307.5\" y=\"-506.3\">output:</text>\n",
       "<polyline fill=\"none\" points=\"341.5,-498.5 341.5,-544.5 \" stroke=\"black\"/>\n",
       "<text font-family=\"Times,serif\" font-size=\"14.00\" text-anchor=\"middle\" x=\"392\" y=\"-529.3\">(None, 100)</text>\n",
       "<polyline fill=\"none\" points=\"341.5,-521.5 442.5,-521.5 \" stroke=\"black\"/>\n",
       "<text font-family=\"Times,serif\" font-size=\"14.00\" text-anchor=\"middle\" x=\"392\" y=\"-506.3\">(None, 100)</text>\n",
       "</g>\n",
       "<!-- 139983774842272 -->\n",
       "<g class=\"node\" id=\"node2\"><title>139983774842272</title>\n",
       "<polygon fill=\"none\" points=\"78.5,-415.5 78.5,-461.5 477.5,-461.5 477.5,-415.5 78.5,-415.5\" stroke=\"black\"/>\n",
       "<text font-family=\"Times,serif\" font-size=\"14.00\" text-anchor=\"middle\" x=\"180\" y=\"-434.8\">embedding_1: Embedding</text>\n",
       "<polyline fill=\"none\" points=\"281.5,-415.5 281.5,-461.5 \" stroke=\"black\"/>\n",
       "<text font-family=\"Times,serif\" font-size=\"14.00\" text-anchor=\"middle\" x=\"315.5\" y=\"-446.3\">input:</text>\n",
       "<polyline fill=\"none\" points=\"281.5,-438.5 349.5,-438.5 \" stroke=\"black\"/>\n",
       "<text font-family=\"Times,serif\" font-size=\"14.00\" text-anchor=\"middle\" x=\"315.5\" y=\"-423.3\">output:</text>\n",
       "<polyline fill=\"none\" points=\"349.5,-415.5 349.5,-461.5 \" stroke=\"black\"/>\n",
       "<text font-family=\"Times,serif\" font-size=\"14.00\" text-anchor=\"middle\" x=\"413.5\" y=\"-446.3\">(None, 100)</text>\n",
       "<polyline fill=\"none\" points=\"349.5,-438.5 477.5,-438.5 \" stroke=\"black\"/>\n",
       "<text font-family=\"Times,serif\" font-size=\"14.00\" text-anchor=\"middle\" x=\"413.5\" y=\"-423.3\">(None, 100, 50)</text>\n",
       "</g>\n",
       "<!-- 139983774839472&#45;&gt;139983774842272 -->\n",
       "<g class=\"edge\" id=\"edge1\"><title>139983774839472-&gt;139983774842272</title>\n",
       "<path d=\"M278,-498.366C278,-490.152 278,-480.658 278,-471.725\" fill=\"none\" stroke=\"black\"/>\n",
       "<polygon fill=\"black\" points=\"281.5,-471.607 278,-461.607 274.5,-471.607 281.5,-471.607\" stroke=\"black\"/>\n",
       "</g>\n",
       "<!-- 139983771260352 -->\n",
       "<g class=\"node\" id=\"node3\"><title>139983771260352</title>\n",
       "<polygon fill=\"none\" points=\"7,-332.5 7,-378.5 549,-378.5 549,-332.5 7,-332.5\" stroke=\"black\"/>\n",
       "<text font-family=\"Times,serif\" font-size=\"14.00\" text-anchor=\"middle\" x=\"175.5\" y=\"-351.8\">bidirectional_1(lstm_1): Bidirectional(LSTM)</text>\n",
       "<polyline fill=\"none\" points=\"344,-332.5 344,-378.5 \" stroke=\"black\"/>\n",
       "<text font-family=\"Times,serif\" font-size=\"14.00\" text-anchor=\"middle\" x=\"378\" y=\"-363.3\">input:</text>\n",
       "<polyline fill=\"none\" points=\"344,-355.5 412,-355.5 \" stroke=\"black\"/>\n",
       "<text font-family=\"Times,serif\" font-size=\"14.00\" text-anchor=\"middle\" x=\"378\" y=\"-340.3\">output:</text>\n",
       "<polyline fill=\"none\" points=\"412,-332.5 412,-378.5 \" stroke=\"black\"/>\n",
       "<text font-family=\"Times,serif\" font-size=\"14.00\" text-anchor=\"middle\" x=\"480.5\" y=\"-363.3\">(None, 100, 50)</text>\n",
       "<polyline fill=\"none\" points=\"412,-355.5 549,-355.5 \" stroke=\"black\"/>\n",
       "<text font-family=\"Times,serif\" font-size=\"14.00\" text-anchor=\"middle\" x=\"480.5\" y=\"-340.3\">(None, 100, 100)</text>\n",
       "</g>\n",
       "<!-- 139983774842272&#45;&gt;139983771260352 -->\n",
       "<g class=\"edge\" id=\"edge2\"><title>139983774842272-&gt;139983771260352</title>\n",
       "<path d=\"M278,-415.366C278,-407.152 278,-397.658 278,-388.725\" fill=\"none\" stroke=\"black\"/>\n",
       "<polygon fill=\"black\" points=\"281.5,-388.607 278,-378.607 274.5,-388.607 281.5,-388.607\" stroke=\"black\"/>\n",
       "</g>\n",
       "<!-- 139983682158208 -->\n",
       "<g class=\"node\" id=\"node4\"><title>139983682158208</title>\n",
       "<polygon fill=\"none\" points=\"0,-249.5 0,-295.5 556,-295.5 556,-249.5 0,-249.5\" stroke=\"black\"/>\n",
       "<text font-family=\"Times,serif\" font-size=\"14.00\" text-anchor=\"middle\" x=\"175.5\" y=\"-268.8\">global_max_pooling1d_1: GlobalMaxPooling1D</text>\n",
       "<polyline fill=\"none\" points=\"351,-249.5 351,-295.5 \" stroke=\"black\"/>\n",
       "<text font-family=\"Times,serif\" font-size=\"14.00\" text-anchor=\"middle\" x=\"385\" y=\"-280.3\">input:</text>\n",
       "<polyline fill=\"none\" points=\"351,-272.5 419,-272.5 \" stroke=\"black\"/>\n",
       "<text font-family=\"Times,serif\" font-size=\"14.00\" text-anchor=\"middle\" x=\"385\" y=\"-257.3\">output:</text>\n",
       "<polyline fill=\"none\" points=\"419,-249.5 419,-295.5 \" stroke=\"black\"/>\n",
       "<text font-family=\"Times,serif\" font-size=\"14.00\" text-anchor=\"middle\" x=\"487.5\" y=\"-280.3\">(None, 100, 100)</text>\n",
       "<polyline fill=\"none\" points=\"419,-272.5 556,-272.5 \" stroke=\"black\"/>\n",
       "<text font-family=\"Times,serif\" font-size=\"14.00\" text-anchor=\"middle\" x=\"487.5\" y=\"-257.3\">(None, 100)</text>\n",
       "</g>\n",
       "<!-- 139983771260352&#45;&gt;139983682158208 -->\n",
       "<g class=\"edge\" id=\"edge3\"><title>139983771260352-&gt;139983682158208</title>\n",
       "<path d=\"M278,-332.366C278,-324.152 278,-314.658 278,-305.725\" fill=\"none\" stroke=\"black\"/>\n",
       "<polygon fill=\"black\" points=\"281.5,-305.607 278,-295.607 274.5,-305.607 281.5,-305.607\" stroke=\"black\"/>\n",
       "</g>\n",
       "<!-- 139983682158376 -->\n",
       "<g class=\"node\" id=\"node5\"><title>139983682158376</title>\n",
       "<polygon fill=\"none\" points=\"129.5,-166.5 129.5,-212.5 426.5,-212.5 426.5,-166.5 129.5,-166.5\" stroke=\"black\"/>\n",
       "<text font-family=\"Times,serif\" font-size=\"14.00\" text-anchor=\"middle\" x=\"193.5\" y=\"-185.8\">dense_1: Dense</text>\n",
       "<polyline fill=\"none\" points=\"257.5,-166.5 257.5,-212.5 \" stroke=\"black\"/>\n",
       "<text font-family=\"Times,serif\" font-size=\"14.00\" text-anchor=\"middle\" x=\"291.5\" y=\"-197.3\">input:</text>\n",
       "<polyline fill=\"none\" points=\"257.5,-189.5 325.5,-189.5 \" stroke=\"black\"/>\n",
       "<text font-family=\"Times,serif\" font-size=\"14.00\" text-anchor=\"middle\" x=\"291.5\" y=\"-174.3\">output:</text>\n",
       "<polyline fill=\"none\" points=\"325.5,-166.5 325.5,-212.5 \" stroke=\"black\"/>\n",
       "<text font-family=\"Times,serif\" font-size=\"14.00\" text-anchor=\"middle\" x=\"376\" y=\"-197.3\">(None, 100)</text>\n",
       "<polyline fill=\"none\" points=\"325.5,-189.5 426.5,-189.5 \" stroke=\"black\"/>\n",
       "<text font-family=\"Times,serif\" font-size=\"14.00\" text-anchor=\"middle\" x=\"376\" y=\"-174.3\">(None, 50)</text>\n",
       "</g>\n",
       "<!-- 139983682158208&#45;&gt;139983682158376 -->\n",
       "<g class=\"edge\" id=\"edge4\"><title>139983682158208-&gt;139983682158376</title>\n",
       "<path d=\"M278,-249.366C278,-241.152 278,-231.658 278,-222.725\" fill=\"none\" stroke=\"black\"/>\n",
       "<polygon fill=\"black\" points=\"281.5,-222.607 278,-212.607 274.5,-222.607 281.5,-222.607\" stroke=\"black\"/>\n",
       "</g>\n",
       "<!-- 139983682014400 -->\n",
       "<g class=\"node\" id=\"node6\"><title>139983682014400</title>\n",
       "<polygon fill=\"none\" points=\"119.5,-83.5 119.5,-129.5 436.5,-129.5 436.5,-83.5 119.5,-83.5\" stroke=\"black\"/>\n",
       "<text font-family=\"Times,serif\" font-size=\"14.00\" text-anchor=\"middle\" x=\"198\" y=\"-102.8\">dropout_1: Dropout</text>\n",
       "<polyline fill=\"none\" points=\"276.5,-83.5 276.5,-129.5 \" stroke=\"black\"/>\n",
       "<text font-family=\"Times,serif\" font-size=\"14.00\" text-anchor=\"middle\" x=\"310.5\" y=\"-114.3\">input:</text>\n",
       "<polyline fill=\"none\" points=\"276.5,-106.5 344.5,-106.5 \" stroke=\"black\"/>\n",
       "<text font-family=\"Times,serif\" font-size=\"14.00\" text-anchor=\"middle\" x=\"310.5\" y=\"-91.3\">output:</text>\n",
       "<polyline fill=\"none\" points=\"344.5,-83.5 344.5,-129.5 \" stroke=\"black\"/>\n",
       "<text font-family=\"Times,serif\" font-size=\"14.00\" text-anchor=\"middle\" x=\"390.5\" y=\"-114.3\">(None, 50)</text>\n",
       "<polyline fill=\"none\" points=\"344.5,-106.5 436.5,-106.5 \" stroke=\"black\"/>\n",
       "<text font-family=\"Times,serif\" font-size=\"14.00\" text-anchor=\"middle\" x=\"390.5\" y=\"-91.3\">(None, 50)</text>\n",
       "</g>\n",
       "<!-- 139983682158376&#45;&gt;139983682014400 -->\n",
       "<g class=\"edge\" id=\"edge5\"><title>139983682158376-&gt;139983682014400</title>\n",
       "<path d=\"M278,-166.366C278,-158.152 278,-148.658 278,-139.725\" fill=\"none\" stroke=\"black\"/>\n",
       "<polygon fill=\"black\" points=\"281.5,-139.607 278,-129.607 274.5,-139.607 281.5,-139.607\" stroke=\"black\"/>\n",
       "</g>\n",
       "<!-- 139983770204088 -->\n",
       "<g class=\"node\" id=\"node7\"><title>139983770204088</title>\n",
       "<polygon fill=\"none\" points=\"134,-0.5 134,-46.5 422,-46.5 422,-0.5 134,-0.5\" stroke=\"black\"/>\n",
       "<text font-family=\"Times,serif\" font-size=\"14.00\" text-anchor=\"middle\" x=\"198\" y=\"-19.8\">dense_2: Dense</text>\n",
       "<polyline fill=\"none\" points=\"262,-0.5 262,-46.5 \" stroke=\"black\"/>\n",
       "<text font-family=\"Times,serif\" font-size=\"14.00\" text-anchor=\"middle\" x=\"296\" y=\"-31.3\">input:</text>\n",
       "<polyline fill=\"none\" points=\"262,-23.5 330,-23.5 \" stroke=\"black\"/>\n",
       "<text font-family=\"Times,serif\" font-size=\"14.00\" text-anchor=\"middle\" x=\"296\" y=\"-8.3\">output:</text>\n",
       "<polyline fill=\"none\" points=\"330,-0.5 330,-46.5 \" stroke=\"black\"/>\n",
       "<text font-family=\"Times,serif\" font-size=\"14.00\" text-anchor=\"middle\" x=\"376\" y=\"-31.3\">(None, 50)</text>\n",
       "<polyline fill=\"none\" points=\"330,-23.5 422,-23.5 \" stroke=\"black\"/>\n",
       "<text font-family=\"Times,serif\" font-size=\"14.00\" text-anchor=\"middle\" x=\"376\" y=\"-8.3\">(None, 6)</text>\n",
       "</g>\n",
       "<!-- 139983682014400&#45;&gt;139983770204088 -->\n",
       "<g class=\"edge\" id=\"edge6\"><title>139983682014400-&gt;139983770204088</title>\n",
       "<path d=\"M278,-83.3664C278,-75.1516 278,-65.6579 278,-56.7252\" fill=\"none\" stroke=\"black\"/>\n",
       "<polygon fill=\"black\" points=\"281.5,-56.6068 278,-46.6068 274.5,-56.6069 281.5,-56.6068\" stroke=\"black\"/>\n",
       "</g>\n",
       "</g>\n",
       "</svg>"
      ],
      "text/plain": [
       "<IPython.core.display.SVG object>"
      ]
     },
     "execution_count": 17,
     "metadata": {},
     "output_type": "execute_result"
    }
   ],
   "source": [
    "show_me(model)"
   ]
  },
  {
   "cell_type": "code",
   "execution_count": 13,
   "metadata": {},
   "outputs": [
    {
     "name": "stdout",
     "output_type": "stream",
     "text": [
      "Train on 4500 samples, validate on 500 samples\n",
      "Epoch 1/15\n",
      "4500/4500 [==============================] - 47s - loss: 0.1695 - acc: 0.9596 - val_loss: 0.1127 - val_acc: 0.9640\n",
      "Epoch 2/15\n",
      "4500/4500 [==============================] - 47s - loss: 0.0973 - acc: 0.9667 - val_loss: 0.0845 - val_acc: 0.9707\n",
      "Epoch 3/15\n",
      "4500/4500 [==============================] - 47s - loss: 0.0689 - acc: 0.9751 - val_loss: 0.0671 - val_acc: 0.9790\n",
      "Epoch 4/15\n",
      "4500/4500 [==============================] - 46s - loss: 0.0577 - acc: 0.9791 - val_loss: 0.0658 - val_acc: 0.9783\n",
      "Epoch 5/15\n",
      "4500/4500 [==============================] - 46s - loss: 0.0500 - acc: 0.9820 - val_loss: 0.0597 - val_acc: 0.9770\n",
      "Epoch 6/15\n",
      "4500/4500 [==============================] - 46s - loss: 0.0454 - acc: 0.9835 - val_loss: 0.0604 - val_acc: 0.9777\n",
      "Epoch 00005: early stopping\n"
     ]
    },
    {
     "data": {
      "text/plain": [
       "<keras.callbacks.History at 0x7f504aba9278>"
      ]
     },
     "execution_count": 13,
     "metadata": {},
     "output_type": "execute_result"
    }
   ],
   "source": [
    "small = make_small(X_t, y, 5000)\n",
    "early_stopping = EarlyStopping(monitor='val_loss',min_delta=0,patience=0,verbose=True,mode='auto')\n",
    "model.fit(small.X_t, small.y,\n",
    "          batch_size=32, \n",
    "          epochs=15, \n",
    "          validation_split=0.1, \n",
    "          verbose=True, \n",
    "          callbacks=[early_stopping])"
   ]
  },
  {
   "cell_type": "markdown",
   "metadata": {},
   "source": [
    "# Model 2"
   ]
  },
  {
   "cell_type": "code",
   "execution_count": 14,
   "metadata": {},
   "outputs": [
    {
     "name": "stdout",
     "output_type": "stream",
     "text": [
      "CPU times: user 1.81 s, sys: 40 ms, total: 1.85 s\n",
      "Wall time: 1.53 s\n"
     ]
    }
   ],
   "source": [
    "%%time\n",
    "inp = Input(shape=(maxlen,))\n",
    "x = Embedding(max_features, embed_size, weights=[embedding_matrix])(inp)\n",
    "x = Bidirectional(LSTM(50, return_sequences=True, dropout=0.1, recurrent_dropout=0.1))(x)\n",
    "x = GlobalMaxPool1D()(x)\n",
    "x = Dense(50, activation=\"relu\")(x)\n",
    "x = Dense(50, activation=\"relu\")(x)\n",
    "x = Dense(50, activation=\"relu\")(x)\n",
    "x = Dropout(0.1)(x)\n",
    "x = Dense(6, activation=\"sigmoid\")(x)\n",
    "model2 = Model(inputs=inp, outputs=x)\n",
    "model2.compile(loss='binary_crossentropy', optimizer='adam', metrics=['accuracy'])"
   ]
  },
  {
   "cell_type": "code",
   "execution_count": null,
   "metadata": {},
   "outputs": [
    {
     "data": {
      "image/svg+xml": [
       "<svg height=\"719pt\" viewBox=\"0.00 0.00 564.00 719.00\" width=\"564pt\" xmlns=\"http://www.w3.org/2000/svg\" xmlns:xlink=\"http://www.w3.org/1999/xlink\">\n",
       "<g class=\"graph\" id=\"graph0\" transform=\"scale(1 1) rotate(0) translate(4 715)\">\n",
       "<title>G</title>\n",
       "<polygon fill=\"white\" points=\"-4,4 -4,-715 560,-715 560,4 -4,4\" stroke=\"none\"/>\n",
       "<!-- 139982812175888 -->\n",
       "<g class=\"node\" id=\"node1\"><title>139982812175888</title>\n",
       "<polygon fill=\"none\" points=\"113.5,-664.5 113.5,-710.5 442.5,-710.5 442.5,-664.5 113.5,-664.5\" stroke=\"black\"/>\n",
       "<text font-family=\"Times,serif\" font-size=\"14.00\" text-anchor=\"middle\" x=\"193.5\" y=\"-683.8\">input_2: InputLayer</text>\n",
       "<polyline fill=\"none\" points=\"273.5,-664.5 273.5,-710.5 \" stroke=\"black\"/>\n",
       "<text font-family=\"Times,serif\" font-size=\"14.00\" text-anchor=\"middle\" x=\"307.5\" y=\"-695.3\">input:</text>\n",
       "<polyline fill=\"none\" points=\"273.5,-687.5 341.5,-687.5 \" stroke=\"black\"/>\n",
       "<text font-family=\"Times,serif\" font-size=\"14.00\" text-anchor=\"middle\" x=\"307.5\" y=\"-672.3\">output:</text>\n",
       "<polyline fill=\"none\" points=\"341.5,-664.5 341.5,-710.5 \" stroke=\"black\"/>\n",
       "<text font-family=\"Times,serif\" font-size=\"14.00\" text-anchor=\"middle\" x=\"392\" y=\"-695.3\">(None, 100)</text>\n",
       "<polyline fill=\"none\" points=\"341.5,-687.5 442.5,-687.5 \" stroke=\"black\"/>\n",
       "<text font-family=\"Times,serif\" font-size=\"14.00\" text-anchor=\"middle\" x=\"392\" y=\"-672.3\">(None, 100)</text>\n",
       "</g>\n",
       "<!-- 139982812176224 -->\n",
       "<g class=\"node\" id=\"node2\"><title>139982812176224</title>\n",
       "<polygon fill=\"none\" points=\"78.5,-581.5 78.5,-627.5 477.5,-627.5 477.5,-581.5 78.5,-581.5\" stroke=\"black\"/>\n",
       "<text font-family=\"Times,serif\" font-size=\"14.00\" text-anchor=\"middle\" x=\"180\" y=\"-600.8\">embedding_2: Embedding</text>\n",
       "<polyline fill=\"none\" points=\"281.5,-581.5 281.5,-627.5 \" stroke=\"black\"/>\n",
       "<text font-family=\"Times,serif\" font-size=\"14.00\" text-anchor=\"middle\" x=\"315.5\" y=\"-612.3\">input:</text>\n",
       "<polyline fill=\"none\" points=\"281.5,-604.5 349.5,-604.5 \" stroke=\"black\"/>\n",
       "<text font-family=\"Times,serif\" font-size=\"14.00\" text-anchor=\"middle\" x=\"315.5\" y=\"-589.3\">output:</text>\n",
       "<polyline fill=\"none\" points=\"349.5,-581.5 349.5,-627.5 \" stroke=\"black\"/>\n",
       "<text font-family=\"Times,serif\" font-size=\"14.00\" text-anchor=\"middle\" x=\"413.5\" y=\"-612.3\">(None, 100)</text>\n",
       "<polyline fill=\"none\" points=\"349.5,-604.5 477.5,-604.5 \" stroke=\"black\"/>\n",
       "<text font-family=\"Times,serif\" font-size=\"14.00\" text-anchor=\"middle\" x=\"413.5\" y=\"-589.3\">(None, 100, 50)</text>\n",
       "</g>\n",
       "<!-- 139982812175888&#45;&gt;139982812176224 -->\n",
       "<g class=\"edge\" id=\"edge1\"><title>139982812175888-&gt;139982812176224</title>\n",
       "<path d=\"M278,-664.366C278,-656.152 278,-646.658 278,-637.725\" fill=\"none\" stroke=\"black\"/>\n",
       "<polygon fill=\"black\" points=\"281.5,-637.607 278,-627.607 274.5,-637.607 281.5,-637.607\" stroke=\"black\"/>\n",
       "</g>\n",
       "<!-- 139982812215952 -->\n",
       "<g class=\"node\" id=\"node3\"><title>139982812215952</title>\n",
       "<polygon fill=\"none\" points=\"7,-498.5 7,-544.5 549,-544.5 549,-498.5 7,-498.5\" stroke=\"black\"/>\n",
       "<text font-family=\"Times,serif\" font-size=\"14.00\" text-anchor=\"middle\" x=\"175.5\" y=\"-517.8\">bidirectional_2(lstm_2): Bidirectional(LSTM)</text>\n",
       "<polyline fill=\"none\" points=\"344,-498.5 344,-544.5 \" stroke=\"black\"/>\n",
       "<text font-family=\"Times,serif\" font-size=\"14.00\" text-anchor=\"middle\" x=\"378\" y=\"-529.3\">input:</text>\n",
       "<polyline fill=\"none\" points=\"344,-521.5 412,-521.5 \" stroke=\"black\"/>\n",
       "<text font-family=\"Times,serif\" font-size=\"14.00\" text-anchor=\"middle\" x=\"378\" y=\"-506.3\">output:</text>\n",
       "<polyline fill=\"none\" points=\"412,-498.5 412,-544.5 \" stroke=\"black\"/>\n",
       "<text font-family=\"Times,serif\" font-size=\"14.00\" text-anchor=\"middle\" x=\"480.5\" y=\"-529.3\">(None, 100, 50)</text>\n",
       "<polyline fill=\"none\" points=\"412,-521.5 549,-521.5 \" stroke=\"black\"/>\n",
       "<text font-family=\"Times,serif\" font-size=\"14.00\" text-anchor=\"middle\" x=\"480.5\" y=\"-506.3\">(None, 100, 100)</text>\n",
       "</g>\n",
       "<!-- 139982812176224&#45;&gt;139982812215952 -->\n",
       "<g class=\"edge\" id=\"edge2\"><title>139982812176224-&gt;139982812215952</title>\n",
       "<path d=\"M278,-581.366C278,-573.152 278,-563.658 278,-554.725\" fill=\"none\" stroke=\"black\"/>\n",
       "<polygon fill=\"black\" points=\"281.5,-554.607 278,-544.607 274.5,-554.607 281.5,-554.607\" stroke=\"black\"/>\n",
       "</g>\n",
       "<!-- 139982811896072 -->\n",
       "<g class=\"node\" id=\"node4\"><title>139982811896072</title>\n",
       "<polygon fill=\"none\" points=\"0,-415.5 0,-461.5 556,-461.5 556,-415.5 0,-415.5\" stroke=\"black\"/>\n",
       "<text font-family=\"Times,serif\" font-size=\"14.00\" text-anchor=\"middle\" x=\"175.5\" y=\"-434.8\">global_max_pooling1d_2: GlobalMaxPooling1D</text>\n",
       "<polyline fill=\"none\" points=\"351,-415.5 351,-461.5 \" stroke=\"black\"/>\n",
       "<text font-family=\"Times,serif\" font-size=\"14.00\" text-anchor=\"middle\" x=\"385\" y=\"-446.3\">input:</text>\n",
       "<polyline fill=\"none\" points=\"351,-438.5 419,-438.5 \" stroke=\"black\"/>\n",
       "<text font-family=\"Times,serif\" font-size=\"14.00\" text-anchor=\"middle\" x=\"385\" y=\"-423.3\">output:</text>\n",
       "<polyline fill=\"none\" points=\"419,-415.5 419,-461.5 \" stroke=\"black\"/>\n",
       "<text font-family=\"Times,serif\" font-size=\"14.00\" text-anchor=\"middle\" x=\"487.5\" y=\"-446.3\">(None, 100, 100)</text>\n",
       "<polyline fill=\"none\" points=\"419,-438.5 556,-438.5 \" stroke=\"black\"/>\n",
       "<text font-family=\"Times,serif\" font-size=\"14.00\" text-anchor=\"middle\" x=\"487.5\" y=\"-423.3\">(None, 100)</text>\n",
       "</g>\n",
       "<!-- 139982812215952&#45;&gt;139982811896072 -->\n",
       "<g class=\"edge\" id=\"edge3\"><title>139982812215952-&gt;139982811896072</title>\n",
       "<path d=\"M278,-498.366C278,-490.152 278,-480.658 278,-471.725\" fill=\"none\" stroke=\"black\"/>\n",
       "<polygon fill=\"black\" points=\"281.5,-471.607 278,-461.607 274.5,-471.607 281.5,-471.607\" stroke=\"black\"/>\n",
       "</g>\n",
       "<!-- 139982812216736 -->\n",
       "<g class=\"node\" id=\"node5\"><title>139982812216736</title>\n",
       "<polygon fill=\"none\" points=\"129.5,-332.5 129.5,-378.5 426.5,-378.5 426.5,-332.5 129.5,-332.5\" stroke=\"black\"/>\n",
       "<text font-family=\"Times,serif\" font-size=\"14.00\" text-anchor=\"middle\" x=\"193.5\" y=\"-351.8\">dense_3: Dense</text>\n",
       "<polyline fill=\"none\" points=\"257.5,-332.5 257.5,-378.5 \" stroke=\"black\"/>\n",
       "<text font-family=\"Times,serif\" font-size=\"14.00\" text-anchor=\"middle\" x=\"291.5\" y=\"-363.3\">input:</text>\n",
       "<polyline fill=\"none\" points=\"257.5,-355.5 325.5,-355.5 \" stroke=\"black\"/>\n",
       "<text font-family=\"Times,serif\" font-size=\"14.00\" text-anchor=\"middle\" x=\"291.5\" y=\"-340.3\">output:</text>\n",
       "<polyline fill=\"none\" points=\"325.5,-332.5 325.5,-378.5 \" stroke=\"black\"/>\n",
       "<text font-family=\"Times,serif\" font-size=\"14.00\" text-anchor=\"middle\" x=\"376\" y=\"-363.3\">(None, 100)</text>\n",
       "<polyline fill=\"none\" points=\"325.5,-355.5 426.5,-355.5 \" stroke=\"black\"/>\n",
       "<text font-family=\"Times,serif\" font-size=\"14.00\" text-anchor=\"middle\" x=\"376\" y=\"-340.3\">(None, 50)</text>\n",
       "</g>\n",
       "<!-- 139982811896072&#45;&gt;139982812216736 -->\n",
       "<g class=\"edge\" id=\"edge4\"><title>139982811896072-&gt;139982812216736</title>\n",
       "<path d=\"M278,-415.366C278,-407.152 278,-397.658 278,-388.725\" fill=\"none\" stroke=\"black\"/>\n",
       "<polygon fill=\"black\" points=\"281.5,-388.607 278,-378.607 274.5,-388.607 281.5,-388.607\" stroke=\"black\"/>\n",
       "</g>\n",
       "<!-- 139982808816832 -->\n",
       "<g class=\"node\" id=\"node6\"><title>139982808816832</title>\n",
       "<polygon fill=\"none\" points=\"134,-249.5 134,-295.5 422,-295.5 422,-249.5 134,-249.5\" stroke=\"black\"/>\n",
       "<text font-family=\"Times,serif\" font-size=\"14.00\" text-anchor=\"middle\" x=\"198\" y=\"-268.8\">dense_4: Dense</text>\n",
       "<polyline fill=\"none\" points=\"262,-249.5 262,-295.5 \" stroke=\"black\"/>\n",
       "<text font-family=\"Times,serif\" font-size=\"14.00\" text-anchor=\"middle\" x=\"296\" y=\"-280.3\">input:</text>\n",
       "<polyline fill=\"none\" points=\"262,-272.5 330,-272.5 \" stroke=\"black\"/>\n",
       "<text font-family=\"Times,serif\" font-size=\"14.00\" text-anchor=\"middle\" x=\"296\" y=\"-257.3\">output:</text>\n",
       "<polyline fill=\"none\" points=\"330,-249.5 330,-295.5 \" stroke=\"black\"/>\n",
       "<text font-family=\"Times,serif\" font-size=\"14.00\" text-anchor=\"middle\" x=\"376\" y=\"-280.3\">(None, 50)</text>\n",
       "<polyline fill=\"none\" points=\"330,-272.5 422,-272.5 \" stroke=\"black\"/>\n",
       "<text font-family=\"Times,serif\" font-size=\"14.00\" text-anchor=\"middle\" x=\"376\" y=\"-257.3\">(None, 50)</text>\n",
       "</g>\n",
       "<!-- 139982812216736&#45;&gt;139982808816832 -->\n",
       "<g class=\"edge\" id=\"edge5\"><title>139982812216736-&gt;139982808816832</title>\n",
       "<path d=\"M278,-332.366C278,-324.152 278,-314.658 278,-305.725\" fill=\"none\" stroke=\"black\"/>\n",
       "<polygon fill=\"black\" points=\"281.5,-305.607 278,-295.607 274.5,-305.607 281.5,-305.607\" stroke=\"black\"/>\n",
       "</g>\n",
       "<!-- 139982809366824 -->\n",
       "<g class=\"node\" id=\"node7\"><title>139982809366824</title>\n",
       "<polygon fill=\"none\" points=\"134,-166.5 134,-212.5 422,-212.5 422,-166.5 134,-166.5\" stroke=\"black\"/>\n",
       "<text font-family=\"Times,serif\" font-size=\"14.00\" text-anchor=\"middle\" x=\"198\" y=\"-185.8\">dense_5: Dense</text>\n",
       "<polyline fill=\"none\" points=\"262,-166.5 262,-212.5 \" stroke=\"black\"/>\n",
       "<text font-family=\"Times,serif\" font-size=\"14.00\" text-anchor=\"middle\" x=\"296\" y=\"-197.3\">input:</text>\n",
       "<polyline fill=\"none\" points=\"262,-189.5 330,-189.5 \" stroke=\"black\"/>\n",
       "<text font-family=\"Times,serif\" font-size=\"14.00\" text-anchor=\"middle\" x=\"296\" y=\"-174.3\">output:</text>\n",
       "<polyline fill=\"none\" points=\"330,-166.5 330,-212.5 \" stroke=\"black\"/>\n",
       "<text font-family=\"Times,serif\" font-size=\"14.00\" text-anchor=\"middle\" x=\"376\" y=\"-197.3\">(None, 50)</text>\n",
       "<polyline fill=\"none\" points=\"330,-189.5 422,-189.5 \" stroke=\"black\"/>\n",
       "<text font-family=\"Times,serif\" font-size=\"14.00\" text-anchor=\"middle\" x=\"376\" y=\"-174.3\">(None, 50)</text>\n",
       "</g>\n",
       "<!-- 139982808816832&#45;&gt;139982809366824 -->\n",
       "<g class=\"edge\" id=\"edge6\"><title>139982808816832-&gt;139982809366824</title>\n",
       "<path d=\"M278,-249.366C278,-241.152 278,-231.658 278,-222.725\" fill=\"none\" stroke=\"black\"/>\n",
       "<polygon fill=\"black\" points=\"281.5,-222.607 278,-212.607 274.5,-222.607 281.5,-222.607\" stroke=\"black\"/>\n",
       "</g>\n",
       "<!-- 139982808924624 -->\n",
       "<g class=\"node\" id=\"node8\"><title>139982808924624</title>\n",
       "<polygon fill=\"none\" points=\"119.5,-83.5 119.5,-129.5 436.5,-129.5 436.5,-83.5 119.5,-83.5\" stroke=\"black\"/>\n",
       "<text font-family=\"Times,serif\" font-size=\"14.00\" text-anchor=\"middle\" x=\"198\" y=\"-102.8\">dropout_2: Dropout</text>\n",
       "<polyline fill=\"none\" points=\"276.5,-83.5 276.5,-129.5 \" stroke=\"black\"/>\n",
       "<text font-family=\"Times,serif\" font-size=\"14.00\" text-anchor=\"middle\" x=\"310.5\" y=\"-114.3\">input:</text>\n",
       "<polyline fill=\"none\" points=\"276.5,-106.5 344.5,-106.5 \" stroke=\"black\"/>\n",
       "<text font-family=\"Times,serif\" font-size=\"14.00\" text-anchor=\"middle\" x=\"310.5\" y=\"-91.3\">output:</text>\n",
       "<polyline fill=\"none\" points=\"344.5,-83.5 344.5,-129.5 \" stroke=\"black\"/>\n",
       "<text font-family=\"Times,serif\" font-size=\"14.00\" text-anchor=\"middle\" x=\"390.5\" y=\"-114.3\">(None, 50)</text>\n",
       "<polyline fill=\"none\" points=\"344.5,-106.5 436.5,-106.5 \" stroke=\"black\"/>\n",
       "<text font-family=\"Times,serif\" font-size=\"14.00\" text-anchor=\"middle\" x=\"390.5\" y=\"-91.3\">(None, 50)</text>\n",
       "</g>\n",
       "<!-- 139982809366824&#45;&gt;139982808924624 -->\n",
       "<g class=\"edge\" id=\"edge7\"><title>139982809366824-&gt;139982808924624</title>\n",
       "<path d=\"M278,-166.366C278,-158.152 278,-148.658 278,-139.725\" fill=\"none\" stroke=\"black\"/>\n",
       "<polygon fill=\"black\" points=\"281.5,-139.607 278,-129.607 274.5,-139.607 281.5,-139.607\" stroke=\"black\"/>\n",
       "</g>\n",
       "<!-- 139982808483208 -->\n",
       "<g class=\"node\" id=\"node9\"><title>139982808483208</title>\n",
       "<polygon fill=\"none\" points=\"134,-0.5 134,-46.5 422,-46.5 422,-0.5 134,-0.5\" stroke=\"black\"/>\n",
       "<text font-family=\"Times,serif\" font-size=\"14.00\" text-anchor=\"middle\" x=\"198\" y=\"-19.8\">dense_6: Dense</text>\n",
       "<polyline fill=\"none\" points=\"262,-0.5 262,-46.5 \" stroke=\"black\"/>\n",
       "<text font-family=\"Times,serif\" font-size=\"14.00\" text-anchor=\"middle\" x=\"296\" y=\"-31.3\">input:</text>\n",
       "<polyline fill=\"none\" points=\"262,-23.5 330,-23.5 \" stroke=\"black\"/>\n",
       "<text font-family=\"Times,serif\" font-size=\"14.00\" text-anchor=\"middle\" x=\"296\" y=\"-8.3\">output:</text>\n",
       "<polyline fill=\"none\" points=\"330,-0.5 330,-46.5 \" stroke=\"black\"/>\n",
       "<text font-family=\"Times,serif\" font-size=\"14.00\" text-anchor=\"middle\" x=\"376\" y=\"-31.3\">(None, 50)</text>\n",
       "<polyline fill=\"none\" points=\"330,-23.5 422,-23.5 \" stroke=\"black\"/>\n",
       "<text font-family=\"Times,serif\" font-size=\"14.00\" text-anchor=\"middle\" x=\"376\" y=\"-8.3\">(None, 6)</text>\n",
       "</g>\n",
       "<!-- 139982808924624&#45;&gt;139982808483208 -->\n",
       "<g class=\"edge\" id=\"edge8\"><title>139982808924624-&gt;139982808483208</title>\n",
       "<path d=\"M278,-83.3664C278,-75.1516 278,-65.6579 278,-56.7252\" fill=\"none\" stroke=\"black\"/>\n",
       "<polygon fill=\"black\" points=\"281.5,-56.6068 278,-46.6068 274.5,-56.6069 281.5,-56.6068\" stroke=\"black\"/>\n",
       "</g>\n",
       "</g>\n",
       "</svg>"
      ],
      "text/plain": [
       "<IPython.core.display.SVG object>"
      ]
     },
     "execution_count": 15,
     "metadata": {},
     "output_type": "execute_result"
    }
   ],
   "source": [
    "show_me(model2)"
   ]
  },
  {
   "cell_type": "code",
   "execution_count": null,
   "metadata": {},
   "outputs": [
    {
     "name": "stdout",
     "output_type": "stream",
     "text": [
      "Train on 4500 samples, validate on 500 samples\n",
      "Epoch 1/15\n",
      "4500/4500 [==============================] - 47s - loss: 0.1795 - acc: 0.9576 - val_loss: 0.0869 - val_acc: 0.9680\n",
      "Epoch 2/15\n",
      "4500/4500 [==============================] - 47s - loss: 0.0880 - acc: 0.9692 - val_loss: 0.0560 - val_acc: 0.9783\n",
      "Epoch 3/15\n",
      "4500/4500 [==============================] - 47s - loss: 0.0614 - acc: 0.9788 - val_loss: 0.0548 - val_acc: 0.9780\n",
      "Epoch 4/15\n",
      "4500/4500 [==============================] - 47s - loss: 0.0516 - acc: 0.9818 - val_loss: 0.0533 - val_acc: 0.9787\n",
      "Epoch 5/15\n",
      "2976/4500 [==================>...........] - ETA: 15s - loss: 0.0459 - acc: 0.9835"
     ]
    }
   ],
   "source": [
    "small = make_small(X_t, y, 5000)\n",
    "early_stopping = EarlyStopping(\n",
    "    monitor='val_loss',\n",
    "    min_delta=0,\n",
    "    patience=0,\n",
    "    verbose=True,\n",
    "    mode='auto'\n",
    ")\n",
    "model2.fit(\n",
    "    small.X_t, small.y,\n",
    "    batch_size=32, \n",
    "    epochs=15, \n",
    "    validation_split=0.1, \n",
    "    verbose=True, \n",
    "    callbacks=[early_stopping])"
   ]
  },
  {
   "cell_type": "code",
   "execution_count": null,
   "metadata": {},
   "outputs": [],
   "source": []
  }
 ],
 "metadata": {
  "anaconda-cloud": {},
  "kernelspec": {
   "display_name": "Python [conda env:toxic35]",
   "language": "python",
   "name": "conda-env-toxic35-py"
  },
  "language_info": {
   "codemirror_mode": {
    "name": "ipython",
    "version": 3
   },
   "file_extension": ".py",
   "mimetype": "text/x-python",
   "name": "python",
   "nbconvert_exporter": "python",
   "pygments_lexer": "ipython3",
   "version": "3.5.4"
  }
 },
 "nbformat": 4,
 "nbformat_minor": 1
}
